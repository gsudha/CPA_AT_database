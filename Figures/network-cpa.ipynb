{
 "cells": [
  {
   "cell_type": "code",
   "execution_count": 1,
   "metadata": {},
   "outputs": [],
   "source": [
    "import plotly.graph_objects as go\n",
    "import pandas as pd\n",
    "import numpy as np\n",
    "import networkx as nx\n",
    "import seaborn as sbn\n",
    "import plotly as plt\n",
    "from pyvis.network import Network\n"
   ]
  },
  {
   "cell_type": "code",
   "execution_count": 2,
   "metadata": {},
   "outputs": [],
   "source": [
    "import igraph as ig"
   ]
  },
  {
   "cell_type": "code",
   "execution_count": 3,
   "metadata": {},
   "outputs": [],
   "source": [
    "df_domains=pd.read_csv(\"CPA-domains.csv\",sep=\"|\")\n",
    "df_full=pd.read_csv(\"CPA-fused.csv\",sep=\"|\")"
   ]
  },
  {
   "cell_type": "code",
   "execution_count": 4,
   "metadata": {},
   "outputs": [],
   "source": [
    "df_domains[\"logEvalue\"]=np.log(df_domains.evalue)\n",
    "df_full[\"logEvalue\"]=np.log(df_full.evalue)"
   ]
  },
  {
   "cell_type": "code",
   "execution_count": 5,
   "metadata": {},
   "outputs": [],
   "source": [
    "df_domains=df_domains.replace(\"cons1_r1\",\"PSE1_r1\")\n",
    "df_domains=df_domains.replace(\"cons1_r2\",\"PSE1_r2\")\n",
    "df_domains=df_domains.replace(\"cons2_r1\",\"PSE2_r1\")\n",
    "df_domains=df_domains.replace(\"cons2_r2\",\"PSE2_r2\")\n",
    "df_full=df_full.replace(\"cons1\",\"PSE1\")\n",
    "df_full=df_full.replace(\"cons2\",\"PSE2\")\n"
   ]
  },
  {
   "cell_type": "code",
   "execution_count": 6,
   "metadata": {},
   "outputs": [],
   "source": [
    "# Plotting using pyvis\n",
    "\n",
    "colordict={\n",
    "\"abrb\":\"green\",\n",
    "\"abrb_r1\":\"green\",\n",
    "\"abrb_r2\":\"green\",\n",
    "\"antiport\":\"red\",\n",
    "\"antiport_r1\":\"red\",\n",
    "\"antiport_r2\":\"red\",\n",
    "\"asp\":\"green\",\n",
    "\"asp_r1\":\"green\",\n",
    "\"asp_r2\":\"green\",\n",
    "\"cons1\":\"blue\",\n",
    "\"cons1_r1\":\"blue\",\n",
    "\"cons1_r2\":\"blue\",\n",
    "\"cons2\":\"blue\",\n",
    "\"cons2_r1\":\"blue\",\n",
    "\"cons2_r2\":\"blue\",\n",
    "\"PSE1\":\"blue\",\n",
    "\"PSE1_r1\":\"blue\",\n",
    "\"PSE1_r2\":\"blue\",\n",
    "\"PSE2\":\"blue\",\n",
    "\"PSE2_r1\":\"blue\",\n",
    "\"PSE2_r2\":\"blue\",\n",
    "\"duf819\":\"green\",\n",
    "\"duf819_r1\":\"green\",\n",
    "\"duf819_r2\":\"green\",\n",
    "\"ex1\":\"red\",\n",
    "\"ex1_r1\":\"red\",\n",
    "\"ex1_r2\":\"red\",\n",
    "\"ex2\":\"red\",\n",
    "\"ex2_r1\":\"red\",\n",
    "\"ex2_r2\":\"red\",\n",
    "\"glt\":\"green\",\n",
    "\"glt_r1\":\"green\",\n",
    "\"glt_r2\":\"green\",\n",
    "\"hct\":\"green\",\n",
    "\"hct_r1\":\"green\",\n",
    "\"hct_r2\":\"green\",\n",
    "\"kdgt\":\"magenta\",\n",
    "\"kdgt_r1\":\"magenta\",\n",
    "\"kdgt_r2\":\"magenta\",\n",
    "\"lrga\":\"blue\",\n",
    "\"lrga_r1\":\"blue\",\n",
    "\"lrgab\":\"blue\",\n",
    "\"lrgab_r1\":\"blue\",\n",
    "\"lrgab_r2\":\"blue\",\n",
    "\"lrgb\":\"blue\",\n",
    "\"lrgb_r1\":\"blue\",\n",
    "\"lrgb_r2\":\"blue\",\n",
    "\"lys3\":\"blue\",\n",
    "\"lys6\":\"blue\",\n",
    "\"lys9\":\"blue\",\n",
    "\"lysa\":\"blue\",\n",
    "\"lysa_r1\":\"blue\",\n",
    "\"lysab\":\"blue\",\n",
    "\"lysab_r1\":\"blue\",\n",
    "\"lysab_r2\":\"blue\",\n",
    "\"lysb\":\"blue\",\n",
    "\"lysb_r1\":\"blue\",\n",
    "\"mt10\":\"magenta\",\n",
    "\"mt10_r1\":\"magenta\",\n",
    "\"mt10_r2\":\"magenta\",\n",
    "\"oad\":\"green\",\n",
    "\"oad_r1\":\"green\",\n",
    "\"oad_r2\":\"green\",\n",
    "\"sbf10\":\"magenta\",\n",
    "\"sbf10_r1\":\"magenta\",\n",
    "\"sbf10_r2\":\"magenta\",\n",
    "\"sbf9\":\"magenta\",\n",
    "\"sbf9_r1\":\"magenta\",\n",
    "\"sbf9_r2\":\"magenta\",\n",
    "\"sbflike\":\"magenta\",\n",
    "\"sbflike_r1\":\"magenta\",\n",
    "\"sbflike_r2\":\"magenta\",\n",
    "\"sbt1\":\"magenta\",\n",
    "\"sbt1_r1\":\"magenta\",\n",
    "\"sbt1_r2\":\"magenta\",\n",
    "}\n"
   ]
  },
  {
   "cell_type": "code",
   "execution_count": 7,
   "metadata": {},
   "outputs": [
    {
     "data": {
      "text/html": [
       "<div>\n",
       "<style scoped>\n",
       "    .dataframe tbody tr th:only-of-type {\n",
       "        vertical-align: middle;\n",
       "    }\n",
       "\n",
       "    .dataframe tbody tr th {\n",
       "        vertical-align: top;\n",
       "    }\n",
       "\n",
       "    .dataframe thead th {\n",
       "        text-align: right;\n",
       "    }\n",
       "</style>\n",
       "<table border=\"1\" class=\"dataframe\">\n",
       "  <thead>\n",
       "    <tr style=\"text-align: right;\">\n",
       "      <th></th>\n",
       "      <th>repeat1</th>\n",
       "      <th>repeat2</th>\n",
       "      <th>probability</th>\n",
       "      <th>score</th>\n",
       "      <th>evalue</th>\n",
       "      <th>logEvalue</th>\n",
       "    </tr>\n",
       "  </thead>\n",
       "  <tbody>\n",
       "    <tr>\n",
       "      <th>374</th>\n",
       "      <td>sbf10_r1</td>\n",
       "      <td>PSE1_r2</td>\n",
       "      <td>66.3</td>\n",
       "      <td>26.7</td>\n",
       "      <td>7.2</td>\n",
       "      <td>1.974081</td>\n",
       "    </tr>\n",
       "    <tr>\n",
       "      <th>271</th>\n",
       "      <td>lrgab_r2</td>\n",
       "      <td>PSE1_r2</td>\n",
       "      <td>67.9</td>\n",
       "      <td>24.1</td>\n",
       "      <td>9.2</td>\n",
       "      <td>2.219203</td>\n",
       "    </tr>\n",
       "    <tr>\n",
       "      <th>93</th>\n",
       "      <td>PSE1_r2</td>\n",
       "      <td>lysab_r1</td>\n",
       "      <td>54.6</td>\n",
       "      <td>26.7</td>\n",
       "      <td>11.0</td>\n",
       "      <td>2.397895</td>\n",
       "    </tr>\n",
       "    <tr>\n",
       "      <th>302</th>\n",
       "      <td>lysab_r2</td>\n",
       "      <td>duf819_r1</td>\n",
       "      <td>71.5</td>\n",
       "      <td>31.0</td>\n",
       "      <td>12.0</td>\n",
       "      <td>2.484907</td>\n",
       "    </tr>\n",
       "    <tr>\n",
       "      <th>369</th>\n",
       "      <td>oad_r1</td>\n",
       "      <td>duf819_r2</td>\n",
       "      <td>55.3</td>\n",
       "      <td>31.5</td>\n",
       "      <td>13.0</td>\n",
       "      <td>2.564949</td>\n",
       "    </tr>\n",
       "    <tr>\n",
       "      <th>...</th>\n",
       "      <td>...</td>\n",
       "      <td>...</td>\n",
       "      <td>...</td>\n",
       "      <td>...</td>\n",
       "      <td>...</td>\n",
       "      <td>...</td>\n",
       "    </tr>\n",
       "    <tr>\n",
       "      <th>422</th>\n",
       "      <td>sbf9_r2</td>\n",
       "      <td>kdgt_r1</td>\n",
       "      <td>21.0</td>\n",
       "      <td>20.9</td>\n",
       "      <td>250.0</td>\n",
       "      <td>5.521461</td>\n",
       "    </tr>\n",
       "    <tr>\n",
       "      <th>207</th>\n",
       "      <td>glt_r1</td>\n",
       "      <td>ex1_r2</td>\n",
       "      <td>21.6</td>\n",
       "      <td>21.2</td>\n",
       "      <td>250.0</td>\n",
       "      <td>5.521461</td>\n",
       "    </tr>\n",
       "    <tr>\n",
       "      <th>237</th>\n",
       "      <td>kdgt_r1</td>\n",
       "      <td>glt_r2</td>\n",
       "      <td>20.5</td>\n",
       "      <td>20.9</td>\n",
       "      <td>260.0</td>\n",
       "      <td>5.560682</td>\n",
       "    </tr>\n",
       "    <tr>\n",
       "      <th>270</th>\n",
       "      <td>lrgab_r1</td>\n",
       "      <td>sbflike_r2</td>\n",
       "      <td>21.7</td>\n",
       "      <td>23.9</td>\n",
       "      <td>300.0</td>\n",
       "      <td>5.703782</td>\n",
       "    </tr>\n",
       "    <tr>\n",
       "      <th>265</th>\n",
       "      <td>lrgab_r1</td>\n",
       "      <td>hct_r2</td>\n",
       "      <td>21.8</td>\n",
       "      <td>24.3</td>\n",
       "      <td>330.0</td>\n",
       "      <td>5.799093</td>\n",
       "    </tr>\n",
       "  </tbody>\n",
       "</table>\n",
       "<p>142 rows × 6 columns</p>\n",
       "</div>"
      ],
      "text/plain": [
       "      repeat1     repeat2  probability  score  evalue  logEvalue\n",
       "374  sbf10_r1     PSE1_r2         66.3   26.7     7.2   1.974081\n",
       "271  lrgab_r2     PSE1_r2         67.9   24.1     9.2   2.219203\n",
       "93    PSE1_r2    lysab_r1         54.6   26.7    11.0   2.397895\n",
       "302  lysab_r2   duf819_r1         71.5   31.0    12.0   2.484907\n",
       "369    oad_r1   duf819_r2         55.3   31.5    13.0   2.564949\n",
       "..        ...         ...          ...    ...     ...        ...\n",
       "422   sbf9_r2     kdgt_r1         21.0   20.9   250.0   5.521461\n",
       "207    glt_r1      ex1_r2         21.6   21.2   250.0   5.521461\n",
       "237   kdgt_r1      glt_r2         20.5   20.9   260.0   5.560682\n",
       "270  lrgab_r1  sbflike_r2         21.7   23.9   300.0   5.703782\n",
       "265  lrgab_r1      hct_r2         21.8   24.3   330.0   5.799093\n",
       "\n",
       "[142 rows x 6 columns]"
      ]
     },
     "execution_count": 7,
     "metadata": {},
     "output_type": "execute_result"
    }
   ],
   "source": [
    "df_domains[(df_domains.probability<75)].sort_values([\"logEvalue\"])"
   ]
  },
  {
   "cell_type": "code",
   "execution_count": 8,
   "metadata": {},
   "outputs": [
    {
     "data": {
      "text/html": [
       "<div>\n",
       "<style scoped>\n",
       "    .dataframe tbody tr th:only-of-type {\n",
       "        vertical-align: middle;\n",
       "    }\n",
       "\n",
       "    .dataframe tbody tr th {\n",
       "        vertical-align: top;\n",
       "    }\n",
       "\n",
       "    .dataframe thead th {\n",
       "        text-align: right;\n",
       "    }\n",
       "</style>\n",
       "<table border=\"1\" class=\"dataframe\">\n",
       "  <thead>\n",
       "    <tr style=\"text-align: right;\">\n",
       "      <th></th>\n",
       "      <th>family1</th>\n",
       "      <th>family2</th>\n",
       "      <th>probability</th>\n",
       "      <th>score</th>\n",
       "      <th>evalue</th>\n",
       "      <th>logEvalue</th>\n",
       "    </tr>\n",
       "  </thead>\n",
       "  <tbody>\n",
       "  </tbody>\n",
       "</table>\n",
       "</div>"
      ],
      "text/plain": [
       "Empty DataFrame\n",
       "Columns: [family1, family2, probability, score, evalue, logEvalue]\n",
       "Index: []"
      ]
     },
     "execution_count": 8,
     "metadata": {},
     "output_type": "execute_result"
    }
   ],
   "source": [
    "df_full[(df_full.probability<75)].sort_values([\"logEvalue\"])"
   ]
  },
  {
   "cell_type": "code",
   "execution_count": 9,
   "metadata": {},
   "outputs": [],
   "source": [
    "#cutoff=99\n",
    "#tempdf=df[df.probability>cutoff]\n",
    "#tempdf_domains=df_domains[(df_domains.evalue<0.001) &(df_domains.probability>75)]\n",
    "tempdf_domains=df_domains[(df_domains.evalue<0.1)]\n",
    "\n",
    "#tempdf=df\n",
    "G_domains=nx.from_pandas_edgelist(tempdf_domains,source=\"repeat1\",target=\"repeat2\",edge_attr=\"evalue\")"
   ]
  },
  {
   "cell_type": "code",
   "execution_count": 10,
   "metadata": {},
   "outputs": [],
   "source": [
    "#cutoff=99\n",
    "#tempdf=df[df.probability>cutoff]\n",
    "tempdf_full=df_full[(df_full.evalue<0.1) ]\n",
    "#tempdf=df\n",
    "G_full=nx.from_pandas_edgelist(tempdf_full,source=\"family1\",target=\"family2\",edge_attr=\"evalue\")"
   ]
  },
  {
   "cell_type": "code",
   "execution_count": 11,
   "metadata": {},
   "outputs": [],
   "source": [
    "net_domains=Network(notebook=True,height='1200px', width='100%',)\n",
    "net_domains.from_nx(G_domains)\n",
    "net_full=Network(notebook=True,height='1200px', width='100%',)\n",
    "net_full.from_nx(G_full)"
   ]
  },
  {
   "cell_type": "code",
   "execution_count": 12,
   "metadata": {},
   "outputs": [],
   "source": [
    "\n",
    "for n in net_domains.nodes:\n",
    "    #print (n)\n",
    "    n[\"title\"] = n[\"label\"]\n",
    "    n[\"color\"] = {\n",
    "        \"background\":colordict[n[\"label\"]],\n",
    "        \"border\":\"black\"}\n",
    "    n[\"font\"] = \"36px Arial black\"\n",
    "    n[\"borderWidth\"]=1\n",
    "    if (n[\"label\"].find(\"_r2\") != -1):\n",
    "        n[\"size\"]=22\n",
    "        n[\"shape\"]=\"star\"\n",
    "        n[\"opacity\"]=100\n",
    "        n[\"Shadow\"]=True\n",
    "    else:   \n",
    "        n[\"size\"]=18\n",
    "        n[\"shape\"]=\"dot\"\n",
    " "
   ]
  },
  {
   "cell_type": "code",
   "execution_count": 13,
   "metadata": {},
   "outputs": [],
   "source": [
    "\n",
    "for n in net_full.nodes:\n",
    "    #print (n)\n",
    "    n[\"title\"] = n[\"label\"]\n",
    "    n[\"color\"] = {\n",
    "        \"background\":colordict[n[\"label\"]],\n",
    "        \"border\":\"black\"}\n",
    "    n[\"font\"] = \"36px Arial black\"\n",
    "    n[\"borderWidth\"]=1\n",
    "    n[\"size\"]=18\n",
    "    n[\"shape\"]=\"dot\"\n",
    " "
   ]
  },
  {
   "cell_type": "code",
   "execution_count": 14,
   "metadata": {},
   "outputs": [],
   "source": [
    "for e in net_domains.edges:\n",
    "    #print (e)\n",
    "    #e[\"length\"]=np.min(100,)\n",
    "    if e[\"from\"]==e[\"to\"]:\n",
    "        e[\"value\"]=0\n",
    "        e[\"hidden\"]=True\n",
    "    else:\n",
    "        if e[\"evalue\"] < 0.00001:\n",
    "            e[\"value\"]=2\n",
    "            #e[\"length\"]=100\n",
    "        elif e[\"evalue\"] < 0.001: \n",
    "            e[\"value\"]=0.5\n",
    "            #e[\"length\"]=200\n",
    "        elif e[\"evalue\"] < 0.01: \n",
    "            e[\"value\"]=0.1          \n",
    "            #e[\"length\"]=300\n",
    "        else:           \n",
    "            e[\"value\"]=0.1\n",
    "            #e[\"length\"]=400\n",
    "        #e[\"value\"]=e[\"score\"]\n",
    "    if not colordict[e[\"from\"]]==colordict[e[\"to\"]]:\n",
    "        e[\"color\"]=\"grey\"\n",
    "    else:\n",
    "        e[\"color\"]=\"black\"\n",
    "    #e[\"physics\"]=True\n"
   ]
  },
  {
   "cell_type": "code",
   "execution_count": 15,
   "metadata": {},
   "outputs": [],
   "source": [
    "for e in net_full.edges:\n",
    "    #print (e)\n",
    "    if e[\"from\"]==e[\"to\"]:\n",
    "        e[\"value\"]=0\n",
    "        e[\"hidden\"]=True\n",
    "    else:\n",
    "        if e[\"evalue\"] < 0.00001:\n",
    "            e[\"value\"]=2\n",
    "        elif e[\"evalue\"] < 0.001: \n",
    "            e[\"value\"]=0.5\n",
    "        elif e[\"evalue\"] < 0.01: \n",
    "            e[\"value\"]=0.1          \n",
    "        else:           \n",
    "            e[\"value\"]=0.1\n",
    "        #e[\"value\"]=e[\"score\"]\n",
    "    if not colordict[e[\"from\"]]==colordict[e[\"to\"]]:\n",
    "        e[\"color\"]=\"grey\"\n",
    "    else:\n",
    "        e[\"color\"]=\"black\"\n",
    "    #e[\"physics\"]=True\n"
   ]
  },
  {
   "cell_type": "code",
   "execution_count": 16,
   "metadata": {
    "scrolled": true
   },
   "outputs": [
    {
     "data": {
      "text/html": [
       "\n",
       "        <iframe\n",
       "            width=\"100%\"\n",
       "            height=\"1200px\"\n",
       "            src=\"network-full.html\"\n",
       "            frameborder=\"0\"\n",
       "            allowfullscreen\n",
       "        ></iframe>\n",
       "        "
      ],
      "text/plain": [
       "<IPython.lib.display.IFrame at 0x7f167b607460>"
      ]
     },
     "execution_count": 16,
     "metadata": {},
     "output_type": "execute_result"
    }
   ],
   "source": [
    "#net_full.show_buttons(filter_=['physics'])\n",
    "net_full.force_atlas_2based()\n",
    "net_full.show(\"network-full.html\")"
   ]
  },
  {
   "cell_type": "code",
   "execution_count": 17,
   "metadata": {},
   "outputs": [
    {
     "data": {
      "text/html": [
       "\n",
       "        <iframe\n",
       "            width=\"100%\"\n",
       "            height=\"1200px\"\n",
       "            src=\"network-domains.html\"\n",
       "            frameborder=\"0\"\n",
       "            allowfullscreen\n",
       "        ></iframe>\n",
       "        "
      ],
      "text/plain": [
       "<IPython.lib.display.IFrame at 0x7f16e8546ac0>"
      ]
     },
     "execution_count": 17,
     "metadata": {},
     "output_type": "execute_result"
    }
   ],
   "source": [
    "#net_domains.show_buttons(filter_=['physics'])\n",
    "net_domains.force_atlas_2based()\n",
    "net_domains.show(\"network-domains.html\")"
   ]
  },
  {
   "cell_type": "code",
   "execution_count": null,
   "metadata": {},
   "outputs": [],
   "source": [
    "net_domains.save_graph(\"network-domains.html\")\n",
    "net_full.save_graph(\"network-full.html\")"
   ]
  },
  {
   "cell_type": "code",
   "execution_count": null,
   "metadata": {},
   "outputs": [],
   "source": [
    "# Plotting using networks\n",
    "tempdf=df[df.evalue<0.001]\n",
    "len(tempdf)"
   ]
  },
  {
   "cell_type": "code",
   "execution_count": null,
   "metadata": {},
   "outputs": [],
   "source": [
    "G=nx.from_pandas_edgelist(tempdf,source=\"repeat1\",target=\"repeat2\",edge_attr=\"score\")"
   ]
  },
  {
   "cell_type": "code",
   "execution_count": null,
   "metadata": {},
   "outputs": [],
   "source": [
    "nx.draw_networkx(G)"
   ]
  },
  {
   "cell_type": "code",
   "execution_count": null,
   "metadata": {},
   "outputs": [],
   "source": [
    "#plotting using igraph\n",
    "g = ig.Graph.TupleList(tempdf.itertuples(index=False), \n",
    "                       directed=False, weights=False, edge_attrs=\"evalue\")\n",
    "ig.plot(g)"
   ]
  },
  {
   "cell_type": "code",
   "execution_count": null,
   "metadata": {},
   "outputs": [],
   "source": [
    "tempdf\n",
    "tempdf[\"from\"]=tempdf[\"repeat1\"]\n",
    "tempdf[\"to\"]=tempdf[\"repeat2\"]\n",
    "\n",
    "g = ig.Graph.DataFrame(tempdf, directed=False)\n",
    "ig.plot(g, layout=\"kamada_kawai\")"
   ]
  },
  {
   "cell_type": "code",
   "execution_count": null,
   "metadata": {},
   "outputs": [],
   "source": [
    "nodes=tempdf.repeat1.unique()\n",
    "nodes"
   ]
  },
  {
   "cell_type": "code",
   "execution_count": null,
   "metadata": {},
   "outputs": [],
   "source": [
    "\n",
    "colordict0={\n",
    "\"abrb_r1\":\"limegreen\",\n",
    "\"abrb_r2\":\"green\",\n",
    "\"antiport_r1\":\"tomato\",\n",
    "\"antiport_r2\":\"red\",\n",
    "\"asp_r1\":\"limegreen\",\n",
    "\"asp_r2\":\"green\",\n",
    "\"cons1_r1\":\"royalblue\",\n",
    "\"cons1_r2\":\"blue\",\n",
    "\"cons2_r1\":\"royalblue\",\n",
    "\"cons2_r2\":\"blue\",\n",
    "\"PSE1_r1\":\"royalblue\",\n",
    "\"PSE1_r2\":\"blue\",\n",
    "\"PSE2_r1\":\"royalblue\",\n",
    "\"PSE2_r2\":\"blue\",\n",
    "\"duf819_r1\":\"limegreen\",\n",
    "\"duf819_r2\":\"green\",\n",
    "\"ex1_r1\":\"salmon\",\n",
    "\"ex1_r2\":\"red\",\n",
    "\"ex2_r1\":\"salmon\",\n",
    "\"ex2_r2\":\"red\",\n",
    "\"glt_r1\":\"limegreen\",\n",
    "\"glt_r2\":\"green\",\n",
    "\"hct_r1\":\"limegreen\",\n",
    "\"hct_r2\":\"green\",\n",
    "\"kdgt_r1\":\"magenta\",\n",
    "\"kdgt_r2\":\"purple\",\n",
    "\"lrga_r1\":\"royalblue\",\n",
    "\"lrgab_r1\":\"royalblue\",\n",
    "\"lrgab_r2\":\"blue\",\n",
    "\"lrgb_r1\":\"royalblue\",\n",
    "\"lrgb_r2\":\"blue\",\n",
    "\"lysa_r1\":\"royalblue\",\n",
    "\"lysab_r1\":\"royalblue\",\n",
    "\"lysab_r2\":\"blue\",\n",
    "\"lysb_r1\":\"royalblue\",\n",
    "\"mt10_r1\":\"magenta\",\n",
    "\"mt10_r2\":\"purple\",\n",
    "\"oad_r1\":\"limegreen\",\n",
    "\"oad_r2\":\"green\",\n",
    "\"sbf10_r1\":\"magenta\",\n",
    "\"sbf10_r2\":\"purple\",\n",
    "\"sbf9_r1\":\"magenta\",\n",
    "\"sbf9_r2\":\"purple\",\n",
    "\"sbflike_r1\":\"magenta\",\n",
    "\"sbflike_r2\":\"purple\",\n",
    "\"sbt1_r1\":\"magenta\",\n",
    "\"sbt1_r2\":\"purple\",\n",
    "}\n"
   ]
  },
  {
   "cell_type": "code",
   "execution_count": null,
   "metadata": {},
   "outputs": [],
   "source": [
    "\n",
    "colordict2={\n",
    "\"abrb_r1\":\"limegreen\",\n",
    "\"abrb_r2\":\"green\",\n",
    "\"antiport_r1\":\"tomato\",\n",
    "\"antiport_r2\":\"red\",\n",
    "\"asp_r1\":\"limegreen\",\n",
    "\"asp_r2\":\"green\",\n",
    "\"cons1_r1\":\"royalblue\",\n",
    "\"cons1_r2\":\"blue\",\n",
    "\"cons2_r1\":\"royalblue\",\n",
    "\"cons2_r2\":\"blue\",\n",
    "\"PSE1_r1\":\"royalblue\",\n",
    "\"PSE1_r2\":\"blue\",\n",
    "\"PSE2_r1\":\"royalblue\",\n",
    "\"PSE2_r2\":\"blue\",\n",
    "\"duf819_r1\":\"limegreen\",\n",
    "\"duf819_r2\":\"green\",\n",
    "\"ex1_r1\":\"salmon\",\n",
    "\"ex1_r2\":\"red\",\n",
    "\"ex2_r1\":\"salmon\",\n",
    "\"ex2_r2\":\"red\",\n",
    "\"glt_r1\":\"limegreen\",\n",
    "\"glt_r2\":\"green\",\n",
    "\"hct_r1\":\"limegreen\",\n",
    "\"hct_r2\":\"green\",\n",
    "\"kdgt_r1\":\"green\",\n",
    "\"kdgt_r2\":\"limegreen\",\n",
    "\"lrga_r1\":\"royalblue\",\n",
    "\"lrgab_r1\":\"royalblue\",\n",
    "\"lrgab_r2\":\"blue\",\n",
    "\"lrgb_r1\":\"royalblue\",\n",
    "\"lrgb_r2\":\"blue\",\n",
    "\"lysa_r1\":\"royalblue\",\n",
    "\"lysab_r1\":\"royalblue\",\n",
    "\"lysab_r2\":\"blue\",\n",
    "\"lysb_r1\":\"royalblue\",\n",
    "\"mt10_r1\":\"magenta\",\n",
    "\"mt10_r2\":\"purple\",\n",
    "\"oad_r1\":\"limegreen\",\n",
    "\"oad_r2\":\"green\",\n",
    "\"sbf10_r1\":\"magenta\",\n",
    "\"sbf10_r2\":\"purple\",\n",
    "\"sbf9_r1\":\"magenta\",\n",
    "\"sbf9_r2\":\"purple\",\n",
    "\"sbflike_r1\":\"magenta\",\n",
    "\"sbflike_r2\":\"purple\",\n",
    "\"sbt1_r1\":\"magenta\",\n",
    "\"sbt1_r2\":\"purple\",\n",
    "}\n"
   ]
  },
  {
   "cell_type": "code",
   "execution_count": null,
   "metadata": {},
   "outputs": [],
   "source": [
    "\n",
    "colordict3={\n",
    "\"abrb_r1\":\"limegreen\",\n",
    "\"abrb_r2\":\"green\",\n",
    "\"antiport_r1\":\"tomato\",\n",
    "\"antiport_r2\":\"red\",\n",
    "\"asp_r1\":\"limegreen\",\n",
    "\"asp_r2\":\"green\",\n",
    "\"cons1_r1\":\"royalblue\",\n",
    "\"cons1_r2\":\"blue\",\n",
    "\"cons2_r1\":\"royalblue\",\n",
    "\"cons2_r2\":\"blue\",\n",
    "\"PSE1_r1\":\"royalblue\",\n",
    "\"PSE1_r2\":\"blue\",\n",
    "\"PSE2_r1\":\"royalblue\",\n",
    "\"PSE2_r2\":\"blue\",\n",
    "\"duf819_r1\":\"limegreen\",\n",
    "\"duf819_r2\":\"green\",\n",
    "\"ex1_r1\":\"salmon\",\n",
    "\"ex1_r2\":\"red\",\n",
    "\"ex2_r1\":\"salmon\",\n",
    "\"ex2_r2\":\"red\",\n",
    "\"glt_r1\":\"limegreen\",\n",
    "\"glt_r2\":\"green\",\n",
    "\"hct_r1\":\"limegreen\",\n",
    "\"hct_r2\":\"green\",\n",
    "\"kdgt_r1\":\"magenta\",\n",
    "\"kdgt_r2\":\"purple\",\n",
    "\"lrga_r1\":\"royalblue\",\n",
    "\"lrgab_r1\":\"royalblue\",\n",
    "\"lrgab_r2\":\"blue\",\n",
    "\"lrgb_r1\":\"royalblue\",\n",
    "\"lrgb_r2\":\"blue\",\n",
    "\"lysa_r1\":\"royalblue\",\n",
    "\"lysab_r1\":\"royalblue\",\n",
    "\"lysab_r2\":\"blue\",\n",
    "\"lysb_r1\":\"royalblue\",\n",
    "\"mt10_r1\":\"magenta\",\n",
    "\"mt10_r2\":\"purple\",\n",
    "\"oad_r1\":\"limegreen\",\n",
    "\"oad_r2\":\"green\",\n",
    "\"sbf10_r1\":\"magenta\",\n",
    "\"sbf10_r2\":\"purple\",\n",
    "\"sbf9_r1\":\"magenta\",\n",
    "\"sbf9_r2\":\"purple\",\n",
    "\"sbflike_r1\":\"magenta\",\n",
    "\"sbflike_r2\":\"purple\",\n",
    "\"sbt1_r1\":\"magenta\",\n",
    "\"sbt1_r2\":\"purple\",\n",
    "}\n"
   ]
  },
  {
   "cell_type": "code",
   "execution_count": null,
   "metadata": {},
   "outputs": [],
   "source": [
    "\n",
    "colordict4={\n",
    "\"abrb_r1\":\"limegreen\",\n",
    "\"abrb_r2\":\"green\",\n",
    "\"antiport_r1\":\"lightpink\",\n",
    "\"antiport_r2\":\"deeppink\",\n",
    "\"asp_r1\":\"limegreen\",\n",
    "\"asp_r2\":\"green\",\n",
    "\"cons1_r1\":\"royalblue\",\n",
    "\"cons1_r2\":\"blue\",\n",
    "\"cons2_r1\":\"royalblue\",\n",
    "\"cons2_r2\":\"blue\",\n",
    "\"PSE1_r1\":\"royalblue\",\n",
    "\"PSE1_r2\":\"blue\",\n",
    "\"PSE2_r1\":\"royalblue\",\n",
    "\"PSE2_r2\":\"blue\",\n",
    "\"duf819_r1\":\"limegreen\",\n",
    "\"duf819_r2\":\"green\",\n",
    "\"ex1_r1\":\"salmon\",\n",
    "\"ex1_r2\":\"deeppink\",\n",
    "\"ex2_r1\":\"salmon\",\n",
    "\"ex2_r2\":\"deeppink\",\n",
    "\"glt_r1\":\"limegreen\",\n",
    "\"glt_r2\":\"green\",\n",
    "\"hct_r1\":\"limegreen\",\n",
    "\"hct_r2\":\"green\",\n",
    "\"kdgt_r1\":\"lightpink\",\n",
    "\"kdgt_r2\":\"deeppink\",\n",
    "\"lrga_r1\":\"royalblue\",\n",
    "\"lrgab_r1\":\"royalblue\",\n",
    "\"lrgab_r2\":\"blue\",\n",
    "\"lrgb_r1\":\"royalblue\",\n",
    "\"lrgb_r2\":\"blue\",\n",
    "\"lysa_r1\":\"royalblue\",\n",
    "\"lysab_r1\":\"royalblue\",\n",
    "\"lysab_r2\":\"blue\",\n",
    "\"lysb_r1\":\"royalblue\",\n",
    "\"mt10_r1\":\"lightpink\",\n",
    "\"mt10_r2\":\"deeppink\",\n",
    "\"oad_r1\":\"limegreen\",\n",
    "\"oad_r2\":\"green\",\n",
    "\"sbf10_r1\":\"lightpink\",\n",
    "\"sbf10_r2\":\"deeppink\",\n",
    "\"sbf9_r1\":\"lightpink\",\n",
    "\"sbf9_r2\":\"deeppink\",\n",
    "\"sbflike_r1\":\"lightpink\",\n",
    "\"sbflike_r2\":\"deeppink\",\n",
    "\"sbt1_r1\":\"lightpink\",\n",
    "\"sbt1_r2\":\"deeppink\",\n",
    "}\n"
   ]
  },
  {
   "cell_type": "code",
   "execution_count": null,
   "metadata": {},
   "outputs": [],
   "source": [
    "for (s,d) in G.edges():\n",
    "    if s[-3:]!=d[-3:]:\n",
    "        G.remove_edge(s,d)"
   ]
  },
  {
   "cell_type": "code",
   "execution_count": null,
   "metadata": {},
   "outputs": [],
   "source": [
    "for (s,d) in G.edges():\n",
    "    print (s,d)"
   ]
  },
  {
   "cell_type": "code",
   "execution_count": null,
   "metadata": {},
   "outputs": [],
   "source": []
  },
  {
   "cell_type": "code",
   "execution_count": null,
   "metadata": {
    "scrolled": false
   },
   "outputs": [],
   "source": [
    "net.show_buttons(filter_=['physics'])\n",
    "net.show(\"network.html\")"
   ]
  },
  {
   "cell_type": "code",
   "execution_count": null,
   "metadata": {},
   "outputs": [],
   "source": [
    "net.save_graph(\"network-graph.html\")"
   ]
  },
  {
   "cell_type": "code",
   "execution_count": null,
   "metadata": {},
   "outputs": [],
   "source": [
    "net.set_options('''\n",
    "var options = \n",
    "  \"physics\": {\n",
    "    \"forceAtlas2Based\": {\n",
    "      \"springLength\": 100\n",
    "    },\n",
    "    \"minVelocity\": 0.75,\n",
    "    \"solver\": \"forceAtlas2Based\"\n",
    "  }\n",
    "''')"
   ]
  },
  {
   "cell_type": "code",
   "execution_count": null,
   "metadata": {},
   "outputs": [],
   "source": []
  },
  {
   "cell_type": "code",
   "execution_count": null,
   "metadata": {},
   "outputs": [],
   "source": [
    "import dash\n",
    "import visdcc"
   ]
  },
  {
   "cell_type": "code",
   "execution_count": null,
   "metadata": {},
   "outputs": [],
   "source": [
    "g = ig.Graph.TupleList(tempdf.itertuples(index=False), directed=True, weights=True, edge_attrs=\"probability\")"
   ]
  },
  {
   "cell_type": "code",
   "execution_count": null,
   "metadata": {},
   "outputs": [],
   "source": [
    "plot(G)"
   ]
  },
  {
   "cell_type": "code",
   "execution_count": null,
   "metadata": {},
   "outputs": [],
   "source": [
    "layout=G.layout_kamada_kawai()"
   ]
  },
  {
   "cell_type": "code",
   "execution_count": null,
   "metadata": {},
   "outputs": [],
   "source": []
  },
  {
   "cell_type": "code",
   "execution_count": null,
   "metadata": {},
   "outputs": [],
   "source": []
  },
  {
   "cell_type": "code",
   "execution_count": null,
   "metadata": {},
   "outputs": [],
   "source": []
  }
 ],
 "metadata": {
  "kernelspec": {
   "display_name": "Python 3",
   "language": "python",
   "name": "python3"
  },
  "language_info": {
   "codemirror_mode": {
    "name": "ipython",
    "version": 3
   },
   "file_extension": ".py",
   "mimetype": "text/x-python",
   "name": "python",
   "nbconvert_exporter": "python",
   "pygments_lexer": "ipython3",
   "version": "3.8.5"
  }
 },
 "nbformat": 4,
 "nbformat_minor": 4
}
