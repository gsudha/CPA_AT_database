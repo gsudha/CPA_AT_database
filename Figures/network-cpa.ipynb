{
 "cells": [
  {
   "cell_type": "code",
   "execution_count": 1,
   "metadata": {},
   "outputs": [],
   "source": [
    "import plotly.graph_objects as go\n",
    "import pandas as pd\n",
    "import numpy as np\n",
    "import networkx as nx\n",
    "import seaborn as sbn\n",
    "import plotly as plt\n",
    "from pyvis.network import Network\n"
   ]
  },
  {
   "cell_type": "code",
   "execution_count": null,
   "metadata": {},
   "outputs": [],
   "source": []
  },
  {
   "cell_type": "code",
   "execution_count": 2,
   "metadata": {},
   "outputs": [],
   "source": [
    "df=pd.read_csv(\"CPA_connections\",sep=\"|\")"
   ]
  },
  {
   "cell_type": "code",
   "execution_count": 3,
   "metadata": {},
   "outputs": [
    {
     "data": {
      "text/html": [
       "<div>\n",
       "<style scoped>\n",
       "    .dataframe tbody tr th:only-of-type {\n",
       "        vertical-align: middle;\n",
       "    }\n",
       "\n",
       "    .dataframe tbody tr th {\n",
       "        vertical-align: top;\n",
       "    }\n",
       "\n",
       "    .dataframe thead th {\n",
       "        text-align: right;\n",
       "    }\n",
       "</style>\n",
       "<table border=\"1\" class=\"dataframe\">\n",
       "  <thead>\n",
       "    <tr style=\"text-align: right;\">\n",
       "      <th></th>\n",
       "      <th>repeat1</th>\n",
       "      <th>repeat2</th>\n",
       "      <th>probability</th>\n",
       "      <th>score</th>\n",
       "      <th>evalue</th>\n",
       "    </tr>\n",
       "  </thead>\n",
       "  <tbody>\n",
       "    <tr>\n",
       "      <th>0</th>\n",
       "      <td>abrb_r1</td>\n",
       "      <td>abrb_r1</td>\n",
       "      <td>99.9</td>\n",
       "      <td>197.3</td>\n",
       "      <td>6.900000e-28</td>\n",
       "    </tr>\n",
       "    <tr>\n",
       "      <th>1</th>\n",
       "      <td>abrb_r1</td>\n",
       "      <td>abrb_r2</td>\n",
       "      <td>100.0</td>\n",
       "      <td>224.1</td>\n",
       "      <td>2.200000e-32</td>\n",
       "    </tr>\n",
       "    <tr>\n",
       "      <th>2</th>\n",
       "      <td>abrb_r1</td>\n",
       "      <td>asp_r1</td>\n",
       "      <td>95.6</td>\n",
       "      <td>40.1</td>\n",
       "      <td>3.400000e-02</td>\n",
       "    </tr>\n",
       "    <tr>\n",
       "      <th>3</th>\n",
       "      <td>abrb_r1</td>\n",
       "      <td>duf819_r1</td>\n",
       "      <td>94.3</td>\n",
       "      <td>36.5</td>\n",
       "      <td>5.700000e-01</td>\n",
       "    </tr>\n",
       "    <tr>\n",
       "      <th>4</th>\n",
       "      <td>abrb_r1</td>\n",
       "      <td>duf819_r2</td>\n",
       "      <td>95.6</td>\n",
       "      <td>40.3</td>\n",
       "      <td>1.400000e-01</td>\n",
       "    </tr>\n",
       "    <tr>\n",
       "      <th>...</th>\n",
       "      <td>...</td>\n",
       "      <td>...</td>\n",
       "      <td>...</td>\n",
       "      <td>...</td>\n",
       "      <td>...</td>\n",
       "    </tr>\n",
       "    <tr>\n",
       "      <th>473</th>\n",
       "      <td>sbt1_r2</td>\n",
       "      <td>lysab_r1</td>\n",
       "      <td>88.6</td>\n",
       "      <td>34.6</td>\n",
       "      <td>1.000000e+00</td>\n",
       "    </tr>\n",
       "    <tr>\n",
       "      <th>474</th>\n",
       "      <td>sbt1_r2</td>\n",
       "      <td>mt10_r2</td>\n",
       "      <td>78.5</td>\n",
       "      <td>30.8</td>\n",
       "      <td>2.600000e+01</td>\n",
       "    </tr>\n",
       "    <tr>\n",
       "      <th>475</th>\n",
       "      <td>sbt1_r2</td>\n",
       "      <td>sbf10_r1</td>\n",
       "      <td>21.0</td>\n",
       "      <td>19.9</td>\n",
       "      <td>1.400000e+02</td>\n",
       "    </tr>\n",
       "    <tr>\n",
       "      <th>476</th>\n",
       "      <td>sbt1_r2</td>\n",
       "      <td>sbflike_r1</td>\n",
       "      <td>59.2</td>\n",
       "      <td>26.0</td>\n",
       "      <td>4.700000e+01</td>\n",
       "    </tr>\n",
       "    <tr>\n",
       "      <th>477</th>\n",
       "      <td>sbt1_r2</td>\n",
       "      <td>sbt1_r2</td>\n",
       "      <td>100.0</td>\n",
       "      <td>415.6</td>\n",
       "      <td>2.800000e-61</td>\n",
       "    </tr>\n",
       "  </tbody>\n",
       "</table>\n",
       "<p>478 rows × 5 columns</p>\n",
       "</div>"
      ],
      "text/plain": [
       "     repeat1     repeat2  probability  score        evalue\n",
       "0    abrb_r1     abrb_r1         99.9  197.3  6.900000e-28\n",
       "1    abrb_r1     abrb_r2        100.0  224.1  2.200000e-32\n",
       "2    abrb_r1      asp_r1         95.6   40.1  3.400000e-02\n",
       "3    abrb_r1   duf819_r1         94.3   36.5  5.700000e-01\n",
       "4    abrb_r1   duf819_r2         95.6   40.3  1.400000e-01\n",
       "..       ...         ...          ...    ...           ...\n",
       "473  sbt1_r2    lysab_r1         88.6   34.6  1.000000e+00\n",
       "474  sbt1_r2     mt10_r2         78.5   30.8  2.600000e+01\n",
       "475  sbt1_r2    sbf10_r1         21.0   19.9  1.400000e+02\n",
       "476  sbt1_r2  sbflike_r1         59.2   26.0  4.700000e+01\n",
       "477  sbt1_r2     sbt1_r2        100.0  415.6  2.800000e-61\n",
       "\n",
       "[478 rows x 5 columns]"
      ]
     },
     "execution_count": 3,
     "metadata": {},
     "output_type": "execute_result"
    }
   ],
   "source": [
    "df"
   ]
  },
  {
   "cell_type": "code",
   "execution_count": 4,
   "metadata": {},
   "outputs": [],
   "source": [
    "df[\"logEvalue\"]=np.log(df.evalue)"
   ]
  },
  {
   "cell_type": "code",
   "execution_count": 5,
   "metadata": {},
   "outputs": [],
   "source": [
    "df=df.replace(\"cons1_r1\",\"PSE1_r1\")\n",
    "df=df.replace(\"cons1_r2\",\"PSE1_r2\")\n",
    "df=df.replace(\"cons2_r1\",\"PSE2_r1\")\n",
    "df=df.replace(\"cons2_r2\",\"PSE2_r2\")"
   ]
  },
  {
   "cell_type": "code",
   "execution_count": 6,
   "metadata": {
    "scrolled": true
   },
   "outputs": [
    {
     "data": {
      "text/plain": [
       "<matplotlib.axes._subplots.AxesSubplot at 0x7fa968ce3400>"
      ]
     },
     "execution_count": 6,
     "metadata": {},
     "output_type": "execute_result"
    },
    {
     "data": {
      "image/png": "[encoded data removed]",
      "text/plain": [
       "<Figure size 432x288 with 1 Axes>"
      ]
     },
     "metadata": {
      "needs_background": "light"
     },
     "output_type": "display_data"
    }
   ],
   "source": [
    "sbn.scatterplot(data=df,x=\"logEvalue\",y=\"probability\")"
   ]
  },
  {
   "cell_type": "code",
   "execution_count": 7,
   "metadata": {},
   "outputs": [
    {
     "data": {
      "text/plain": [
       "150"
      ]
     },
     "execution_count": 7,
     "metadata": {},
     "output_type": "execute_result"
    }
   ],
   "source": [
    "tempdf=df[df.probability>95]\n",
    "len(tempdf)"
   ]
  },
  {
   "cell_type": "code",
   "execution_count": 8,
   "metadata": {},
   "outputs": [
    {
     "data": {
      "text/plain": [
       "80"
      ]
     },
     "execution_count": 8,
     "metadata": {},
     "output_type": "execute_result"
    }
   ],
   "source": [
    "tempdf=df[df.evalue<0.001]\n",
    "len(tempdf)"
   ]
  },
  {
   "cell_type": "code",
   "execution_count": null,
   "metadata": {},
   "outputs": [],
   "source": [
    "    "
   ]
  },
  {
   "cell_type": "code",
   "execution_count": 9,
   "metadata": {},
   "outputs": [],
   "source": [
    "G=nx.from_pandas_edgelist(tempdf,source=\"repeat1\",target=\"repeat2\",edge_attr=\"score\")"
   ]
  },
  {
   "cell_type": "code",
   "execution_count": 10,
   "metadata": {},
   "outputs": [
    {
     "data": {
      "image/png": "[encoded data removed]",
      "text/plain": [
       "<Figure size 432x288 with 1 Axes>"
      ]
     },
     "metadata": {},
     "output_type": "display_data"
    }
   ],
   "source": [
    "nx.draw_networkx(G)"
   ]
  },
  {
   "cell_type": "code",
   "execution_count": null,
   "metadata": {},
   "outputs": [],
   "source": []
  },
  {
   "cell_type": "code",
   "execution_count": 11,
   "metadata": {},
   "outputs": [
    {
     "data": {
      "text/html": [
       "<div>\n",
       "<style scoped>\n",
       "    .dataframe tbody tr th:only-of-type {\n",
       "        vertical-align: middle;\n",
       "    }\n",
       "\n",
       "    .dataframe tbody tr th {\n",
       "        vertical-align: top;\n",
       "    }\n",
       "\n",
       "    .dataframe thead th {\n",
       "        text-align: right;\n",
       "    }\n",
       "</style>\n",
       "<table border=\"1\" class=\"dataframe\">\n",
       "  <thead>\n",
       "    <tr style=\"text-align: right;\">\n",
       "      <th></th>\n",
       "      <th>repeat1</th>\n",
       "      <th>repeat2</th>\n",
       "      <th>probability</th>\n",
       "      <th>score</th>\n",
       "      <th>evalue</th>\n",
       "      <th>logEvalue</th>\n",
       "    </tr>\n",
       "  </thead>\n",
       "  <tbody>\n",
       "  </tbody>\n",
       "</table>\n",
       "</div>"
      ],
      "text/plain": [
       "Empty DataFrame\n",
       "Columns: [repeat1, repeat2, probability, score, evalue, logEvalue]\n",
       "Index: []"
      ]
     },
     "execution_count": 11,
     "metadata": {},
     "output_type": "execute_result"
    }
   ],
   "source": [
    "tempdf[tempdf.evalue>0.001]"
   ]
  },
  {
   "cell_type": "code",
   "execution_count": 12,
   "metadata": {},
   "outputs": [
    {
     "data": {
      "text/plain": [
       "array(['abrb_r1', 'abrb_r2', 'antiport_r1', 'antiport_r2', 'asp_r1',\n",
       "       'asp_r2', 'PSE1_r1', 'PSE1_r2', 'PSE2_r1', 'PSE2_r2', 'duf819_r1',\n",
       "       'duf819_r2', 'ex1_r1', 'ex1_r2', 'ex2_r1', 'ex2_r2', 'glt_r1',\n",
       "       'glt_r2', 'hct_r1', 'hct_r2', 'kdgt_r1', 'kdgt_r2', 'lrgab_r1',\n",
       "       'lrgab_r2', 'lrga_r1', 'lrgb_r1', 'lrgb_r2', 'lysab_r1',\n",
       "       'lysab_r2', 'lysa_r1', 'lysb_r1', 'mt10_r1', 'mt10_r2', 'oad_r1',\n",
       "       'oad_r2', 'sbf10_r1', 'sbf10_r2', 'sbf9_r1', 'sbf9_r2',\n",
       "       'sbflike_r1', 'sbflike_r2', 'sbt1_r1', 'sbt1_r2'], dtype=object)"
      ]
     },
     "execution_count": 12,
     "metadata": {},
     "output_type": "execute_result"
    }
   ],
   "source": [
    "nodes=tempdf.repeat1.unique()\n",
    "nodes"
   ]
  },
  {
   "cell_type": "code",
   "execution_count": 15,
   "metadata": {},
   "outputs": [],
   "source": [
    "\n",
    "colordict={\n",
    "\"abrb_r1\":\"green\",\n",
    "\"abrb_r2\":\"green\",\n",
    "\"antiport_r1\":\"red\",\n",
    "\"antiport_r2\":\"red\",\n",
    "\"asp_r1\":\"green\",\n",
    "\"asp_r2\":\"green\",\n",
    "\"cons1_r1\":\"blue\",\n",
    "\"cons1_r2\":\"blue\",\n",
    "\"cons2_r1\":\"blue\",\n",
    "\"cons2_r2\":\"blue\",\n",
    "\"PSE1_r1\":\"blue\",\n",
    "\"PSE1_r2\":\"blue\",\n",
    "\"PSE2_r1\":\"blue\",\n",
    "\"PSE2_r2\":\"blue\",\n",
    "\"duf819_r1\":\"green\",\n",
    "\"duf819_r2\":\"green\",\n",
    "\"ex1_r1\":\"salmon\",\n",
    "\"ex1_r2\":\"red\",\n",
    "\"ex2_r1\":\"salmon\",\n",
    "\"ex2_r2\":\"red\",\n",
    "\"glt_r1\":\"green\",\n",
    "\"glt_r2\":\"green\",\n",
    "\"hct_r1\":\"green\",\n",
    "\"hct_r2\":\"green\",\n",
    "\"kdgt_r1\":\"magenta\",\n",
    "\"kdgt_r2\":\"magenta\",\n",
    "\"lrga_r1\":\"blue\",\n",
    "\"lrgab_r1\":\"blue\",\n",
    "\"lrgab_r2\":\"blue\",\n",
    "\"lrgb_r1\":\"blue\",\n",
    "\"lrgb_r2\":\"blue\",\n",
    "\"lysa_r1\":\"blue\",\n",
    "\"lysab_r1\":\"blue\",\n",
    "\"lysab_r2\":\"blue\",\n",
    "\"lysb_r1\":\"blue\",\n",
    "\"mt10_r1\":\"magenta\",\n",
    "\"mt10_r2\":\"magenta\",\n",
    "\"oad_r1\":\"green\",\n",
    "\"oad_r2\":\"green\",\n",
    "\"sbf10_r1\":\"magenta\",\n",
    "\"sbf10_r2\":\"magenta\",\n",
    "\"sbf9_r1\":\"magenta\",\n",
    "\"sbf9_r2\":\"magenta\",\n",
    "\"sbflike_r1\":\"magenta\",\n",
    "\"sbflike_r2\":\"magenta\",\n",
    "\"sbt1_r1\":\"magenta\",\n",
    "\"sbt1_r2\":\"magenta\",\n",
    "}\n"
   ]
  },
  {
   "cell_type": "code",
   "execution_count": 157,
   "metadata": {},
   "outputs": [],
   "source": [
    "\n",
    "colordict0={\n",
    "\"abrb_r1\":\"limegreen\",\n",
    "\"abrb_r2\":\"green\",\n",
    "\"antiport_r1\":\"tomato\",\n",
    "\"antiport_r2\":\"red\",\n",
    "\"asp_r1\":\"limegreen\",\n",
    "\"asp_r2\":\"green\",\n",
    "\"cons1_r1\":\"royalblue\",\n",
    "\"cons1_r2\":\"blue\",\n",
    "\"cons2_r1\":\"royalblue\",\n",
    "\"cons2_r2\":\"blue\",\n",
    "\"PSE1_r1\":\"royalblue\",\n",
    "\"PSE1_r2\":\"blue\",\n",
    "\"PSE2_r1\":\"royalblue\",\n",
    "\"PSE2_r2\":\"blue\",\n",
    "\"duf819_r1\":\"limegreen\",\n",
    "\"duf819_r2\":\"green\",\n",
    "\"ex1_r1\":\"salmon\",\n",
    "\"ex1_r2\":\"red\",\n",
    "\"ex2_r1\":\"salmon\",\n",
    "\"ex2_r2\":\"red\",\n",
    "\"glt_r1\":\"limegreen\",\n",
    "\"glt_r2\":\"green\",\n",
    "\"hct_r1\":\"limegreen\",\n",
    "\"hct_r2\":\"green\",\n",
    "\"kdgt_r1\":\"magenta\",\n",
    "\"kdgt_r2\":\"purple\",\n",
    "\"lrga_r1\":\"royalblue\",\n",
    "\"lrgab_r1\":\"royalblue\",\n",
    "\"lrgab_r2\":\"blue\",\n",
    "\"lrgb_r1\":\"royalblue\",\n",
    "\"lrgb_r2\":\"blue\",\n",
    "\"lysa_r1\":\"royalblue\",\n",
    "\"lysab_r1\":\"royalblue\",\n",
    "\"lysab_r2\":\"blue\",\n",
    "\"lysb_r1\":\"royalblue\",\n",
    "\"mt10_r1\":\"magenta\",\n",
    "\"mt10_r2\":\"purple\",\n",
    "\"oad_r1\":\"limegreen\",\n",
    "\"oad_r2\":\"green\",\n",
    "\"sbf10_r1\":\"magenta\",\n",
    "\"sbf10_r2\":\"purple\",\n",
    "\"sbf9_r1\":\"magenta\",\n",
    "\"sbf9_r2\":\"purple\",\n",
    "\"sbflike_r1\":\"magenta\",\n",
    "\"sbflike_r2\":\"purple\",\n",
    "\"sbt1_r1\":\"magenta\",\n",
    "\"sbt1_r2\":\"purple\",\n",
    "}\n"
   ]
  },
  {
   "cell_type": "code",
   "execution_count": 164,
   "metadata": {},
   "outputs": [],
   "source": [
    "\n",
    "colordict2={\n",
    "\"abrb_r1\":\"limegreen\",\n",
    "\"abrb_r2\":\"green\",\n",
    "\"antiport_r1\":\"tomato\",\n",
    "\"antiport_r2\":\"red\",\n",
    "\"asp_r1\":\"limegreen\",\n",
    "\"asp_r2\":\"green\",\n",
    "\"cons1_r1\":\"royalblue\",\n",
    "\"cons1_r2\":\"blue\",\n",
    "\"cons2_r1\":\"royalblue\",\n",
    "\"cons2_r2\":\"blue\",\n",
    "\"PSE1_r1\":\"royalblue\",\n",
    "\"PSE1_r2\":\"blue\",\n",
    "\"PSE2_r1\":\"royalblue\",\n",
    "\"PSE2_r2\":\"blue\",\n",
    "\"duf819_r1\":\"limegreen\",\n",
    "\"duf819_r2\":\"green\",\n",
    "\"ex1_r1\":\"salmon\",\n",
    "\"ex1_r2\":\"red\",\n",
    "\"ex2_r1\":\"salmon\",\n",
    "\"ex2_r2\":\"red\",\n",
    "\"glt_r1\":\"limegreen\",\n",
    "\"glt_r2\":\"green\",\n",
    "\"hct_r1\":\"limegreen\",\n",
    "\"hct_r2\":\"green\",\n",
    "\"kdgt_r1\":\"green\",\n",
    "\"kdgt_r2\":\"limegreen\",\n",
    "\"lrga_r1\":\"royalblue\",\n",
    "\"lrgab_r1\":\"royalblue\",\n",
    "\"lrgab_r2\":\"blue\",\n",
    "\"lrgb_r1\":\"royalblue\",\n",
    "\"lrgb_r2\":\"blue\",\n",
    "\"lysa_r1\":\"royalblue\",\n",
    "\"lysab_r1\":\"royalblue\",\n",
    "\"lysab_r2\":\"blue\",\n",
    "\"lysb_r1\":\"royalblue\",\n",
    "\"mt10_r1\":\"magenta\",\n",
    "\"mt10_r2\":\"purple\",\n",
    "\"oad_r1\":\"limegreen\",\n",
    "\"oad_r2\":\"green\",\n",
    "\"sbf10_r1\":\"magenta\",\n",
    "\"sbf10_r2\":\"purple\",\n",
    "\"sbf9_r1\":\"magenta\",\n",
    "\"sbf9_r2\":\"purple\",\n",
    "\"sbflike_r1\":\"magenta\",\n",
    "\"sbflike_r2\":\"purple\",\n",
    "\"sbt1_r1\":\"magenta\",\n",
    "\"sbt1_r2\":\"purple\",\n",
    "}\n"
   ]
  },
  {
   "cell_type": "code",
   "execution_count": 125,
   "metadata": {},
   "outputs": [],
   "source": [
    "\n",
    "colordict3={\n",
    "\"abrb_r1\":\"limegreen\",\n",
    "\"abrb_r2\":\"green\",\n",
    "\"antiport_r1\":\"tomato\",\n",
    "\"antiport_r2\":\"red\",\n",
    "\"asp_r1\":\"limegreen\",\n",
    "\"asp_r2\":\"green\",\n",
    "\"cons1_r1\":\"royalblue\",\n",
    "\"cons1_r2\":\"blue\",\n",
    "\"cons2_r1\":\"royalblue\",\n",
    "\"cons2_r2\":\"blue\",\n",
    "\"PSE1_r1\":\"royalblue\",\n",
    "\"PSE1_r2\":\"blue\",\n",
    "\"PSE2_r1\":\"royalblue\",\n",
    "\"PSE2_r2\":\"blue\",\n",
    "\"duf819_r1\":\"limegreen\",\n",
    "\"duf819_r2\":\"green\",\n",
    "\"ex1_r1\":\"salmon\",\n",
    "\"ex1_r2\":\"red\",\n",
    "\"ex2_r1\":\"salmon\",\n",
    "\"ex2_r2\":\"red\",\n",
    "\"glt_r1\":\"limegreen\",\n",
    "\"glt_r2\":\"green\",\n",
    "\"hct_r1\":\"limegreen\",\n",
    "\"hct_r2\":\"green\",\n",
    "\"kdgt_r1\":\"magenta\",\n",
    "\"kdgt_r2\":\"purple\",\n",
    "\"lrga_r1\":\"royalblue\",\n",
    "\"lrgab_r1\":\"royalblue\",\n",
    "\"lrgab_r2\":\"blue\",\n",
    "\"lrgb_r1\":\"royalblue\",\n",
    "\"lrgb_r2\":\"blue\",\n",
    "\"lysa_r1\":\"royalblue\",\n",
    "\"lysab_r1\":\"royalblue\",\n",
    "\"lysab_r2\":\"blue\",\n",
    "\"lysb_r1\":\"royalblue\",\n",
    "\"mt10_r1\":\"magenta\",\n",
    "\"mt10_r2\":\"purple\",\n",
    "\"oad_r1\":\"limegreen\",\n",
    "\"oad_r2\":\"green\",\n",
    "\"sbf10_r1\":\"magenta\",\n",
    "\"sbf10_r2\":\"purple\",\n",
    "\"sbf9_r1\":\"magenta\",\n",
    "\"sbf9_r2\":\"purple\",\n",
    "\"sbflike_r1\":\"magenta\",\n",
    "\"sbflike_r2\":\"purple\",\n",
    "\"sbt1_r1\":\"magenta\",\n",
    "\"sbt1_r2\":\"purple\",\n",
    "}\n"
   ]
  },
  {
   "cell_type": "code",
   "execution_count": 131,
   "metadata": {},
   "outputs": [],
   "source": [
    "\n",
    "colordict4={\n",
    "\"abrb_r1\":\"limegreen\",\n",
    "\"abrb_r2\":\"green\",\n",
    "\"antiport_r1\":\"lightpink\",\n",
    "\"antiport_r2\":\"deeppink\",\n",
    "\"asp_r1\":\"limegreen\",\n",
    "\"asp_r2\":\"green\",\n",
    "\"cons1_r1\":\"royalblue\",\n",
    "\"cons1_r2\":\"blue\",\n",
    "\"cons2_r1\":\"royalblue\",\n",
    "\"cons2_r2\":\"blue\",\n",
    "\"PSE1_r1\":\"royalblue\",\n",
    "\"PSE1_r2\":\"blue\",\n",
    "\"PSE2_r1\":\"royalblue\",\n",
    "\"PSE2_r2\":\"blue\",\n",
    "\"duf819_r1\":\"limegreen\",\n",
    "\"duf819_r2\":\"green\",\n",
    "\"ex1_r1\":\"salmon\",\n",
    "\"ex1_r2\":\"deeppink\",\n",
    "\"ex2_r1\":\"salmon\",\n",
    "\"ex2_r2\":\"deeppink\",\n",
    "\"glt_r1\":\"limegreen\",\n",
    "\"glt_r2\":\"green\",\n",
    "\"hct_r1\":\"limegreen\",\n",
    "\"hct_r2\":\"green\",\n",
    "\"kdgt_r1\":\"lightpink\",\n",
    "\"kdgt_r2\":\"deeppink\",\n",
    "\"lrga_r1\":\"royalblue\",\n",
    "\"lrgab_r1\":\"royalblue\",\n",
    "\"lrgab_r2\":\"blue\",\n",
    "\"lrgb_r1\":\"royalblue\",\n",
    "\"lrgb_r2\":\"blue\",\n",
    "\"lysa_r1\":\"royalblue\",\n",
    "\"lysab_r1\":\"royalblue\",\n",
    "\"lysab_r2\":\"blue\",\n",
    "\"lysb_r1\":\"royalblue\",\n",
    "\"mt10_r1\":\"lightpink\",\n",
    "\"mt10_r2\":\"deeppink\",\n",
    "\"oad_r1\":\"limegreen\",\n",
    "\"oad_r2\":\"green\",\n",
    "\"sbf10_r1\":\"lightpink\",\n",
    "\"sbf10_r2\":\"deeppink\",\n",
    "\"sbf9_r1\":\"lightpink\",\n",
    "\"sbf9_r2\":\"deeppink\",\n",
    "\"sbflike_r1\":\"lightpink\",\n",
    "\"sbflike_r2\":\"deeppink\",\n",
    "\"sbt1_r1\":\"lightpink\",\n",
    "\"sbt1_r2\":\"deeppink\",\n",
    "}\n"
   ]
  },
  {
   "cell_type": "code",
   "execution_count": 18,
   "metadata": {},
   "outputs": [],
   "source": [
    "#cutoff=99\n",
    "#tempdf=df[df.probability>cutoff]\n",
    "tempdf=df[df.evalue<0.01]\n",
    "#tempdf=df\n",
    "G=nx.from_pandas_edgelist(tempdf,source=\"repeat1\",target=\"repeat2\",edge_attr=\"evalue\")"
   ]
  },
  {
   "cell_type": "code",
   "execution_count": 19,
   "metadata": {},
   "outputs": [],
   "source": [
    "net=Network(notebook=True,height='1200px', width='100%',)\n",
    "net.from_nx(G)"
   ]
  },
  {
   "cell_type": "code",
   "execution_count": 34,
   "metadata": {},
   "outputs": [],
   "source": [
    "for n in net.nodes:\n",
    "    #print (n)\n",
    "    n[\"title\"] = n[\"label\"]\n",
    "    n[\"color\"] = colordict[n[\"label\"]]\n",
    "    n[\"font\"] = \"36px Arial black\"\n",
    "    n[\"borderWidth\"]=20\n",
    "    if (n[\"label\"].find(\"_r2\") != -1):\n",
    "        n[\"size\"]=10\n",
    "        n[\"shape\"]=\"diamond\"\n",
    "    else:   \n",
    "        n[\"size\"]=10\n",
    "        n[\"shape\"]=\"dot\"\n",
    " "
   ]
  },
  {
   "cell_type": "code",
   "execution_count": 35,
   "metadata": {},
   "outputs": [],
   "source": [
    "for e in net.edges:\n",
    "    #print (e)\n",
    "    if e[\"from\"]==e[\"to\"]:\n",
    "        e[\"value\"]=0\n",
    "        e[\"hidden\"]=True\n",
    "    else:\n",
    "        if e[\"evalue\"] < 0.00001:\n",
    "            e[\"value\"]=3\n",
    "        elif e[\"evalue\"] < 0.0001: \n",
    "            e[\"value\"]=2\n",
    "        elif e[\"evalue\"] < 0.001: \n",
    "            e[\"value\"]=1\n",
    "        elif e[\"evalue\"] < 0.01: \n",
    "            e[\"value\"]=0.1\n",
    "        elif e[\"evalue\"] < 0.1: \n",
    "            e[\"value\"]=0.1            \n",
    "        else:           \n",
    "            e[\"value\"]=0.1\n",
    "        #e[\"value\"]=e[\"score\"]\n",
    "    if not colordict[e[\"from\"]]==colordict[e[\"to\"]]:\n",
    "        e[\"color\"]=\"black\"\n",
    "    #else:\n",
    "    #    e[\"color\"]=\"grey\"\n",
    "    #e[\"physics\"]=True\n"
   ]
  },
  {
   "cell_type": "code",
   "execution_count": null,
   "metadata": {},
   "outputs": [],
   "source": []
  },
  {
   "cell_type": "code",
   "execution_count": 36,
   "metadata": {
    "scrolled": false
   },
   "outputs": [
    {
     "data": {
      "text/html": [
       "\n",
       "        <iframe\n",
       "            width=\"100%\"\n",
       "            height=\"1200px\"\n",
       "            src=\"network.html\"\n",
       "            frameborder=\"0\"\n",
       "            allowfullscreen\n",
       "        ></iframe>\n",
       "        "
      ],
      "text/plain": [
       "<IPython.lib.display.IFrame at 0x7fa8faf87850>"
      ]
     },
     "execution_count": 36,
     "metadata": {},
     "output_type": "execute_result"
    }
   ],
   "source": [
    "net.show_buttons(filter_=['physics'])\n",
    "net.show(\"network.html\")"
   ]
  },
  {
   "cell_type": "code",
   "execution_count": 37,
   "metadata": {},
   "outputs": [],
   "source": [
    "net.save_graph(\"network-graph.html\")"
   ]
  },
  {
   "cell_type": "code",
   "execution_count": null,
   "metadata": {},
   "outputs": [],
   "source": [
    "net.set_options('''\n",
    "var options = \n",
    "  \"physics\": {\n",
    "    \"forceAtlas2Based\": {\n",
    "      \"springLength\": 100\n",
    "    },\n",
    "    \"minVelocity\": 0.75,\n",
    "    \"solver\": \"forceAtlas2Based\"\n",
    "  }\n",
    "''')"
   ]
  },
  {
   "cell_type": "code",
   "execution_count": null,
   "metadata": {},
   "outputs": [],
   "source": []
  },
  {
   "cell_type": "code",
   "execution_count": 20,
   "metadata": {},
   "outputs": [],
   "source": [
    "import dash\n",
    "import visdcc"
   ]
  },
  {
   "cell_type": "code",
   "execution_count": 21,
   "metadata": {},
   "outputs": [
    {
     "ename": "NameError",
     "evalue": "name 'ig' is not defined",
     "output_type": "error",
     "traceback": [
      "\u001b[0;31m---------------------------------------------------------------------------\u001b[0m",
      "\u001b[0;31mNameError\u001b[0m                                 Traceback (most recent call last)",
      "\u001b[0;32m<ipython-input-21-7d894290a812>\u001b[0m in \u001b[0;36m<module>\u001b[0;34m\u001b[0m\n\u001b[0;32m----> 1\u001b[0;31m \u001b[0mg\u001b[0m \u001b[0;34m=\u001b[0m \u001b[0mig\u001b[0m\u001b[0;34m.\u001b[0m\u001b[0mGraph\u001b[0m\u001b[0;34m.\u001b[0m\u001b[0mTupleList\u001b[0m\u001b[0;34m(\u001b[0m\u001b[0mtempdf\u001b[0m\u001b[0;34m.\u001b[0m\u001b[0mitertuples\u001b[0m\u001b[0;34m(\u001b[0m\u001b[0mindex\u001b[0m\u001b[0;34m=\u001b[0m\u001b[0;32mFalse\u001b[0m\u001b[0;34m)\u001b[0m\u001b[0;34m,\u001b[0m \u001b[0mdirected\u001b[0m\u001b[0;34m=\u001b[0m\u001b[0;32mTrue\u001b[0m\u001b[0;34m,\u001b[0m \u001b[0mweights\u001b[0m\u001b[0;34m=\u001b[0m\u001b[0;32mTrue\u001b[0m\u001b[0;34m,\u001b[0m \u001b[0medge_attrs\u001b[0m\u001b[0;34m=\u001b[0m\u001b[0;34m\"probability\"\u001b[0m\u001b[0;34m)\u001b[0m\u001b[0;34m\u001b[0m\u001b[0;34m\u001b[0m\u001b[0m\n\u001b[0m",
      "\u001b[0;31mNameError\u001b[0m: name 'ig' is not defined"
     ]
    }
   ],
   "source": [
    "g = ig.Graph.TupleList(tempdf.itertuples(index=False), directed=True, weights=True, edge_attrs=\"probability\")"
   ]
  },
  {
   "cell_type": "code",
   "execution_count": null,
   "metadata": {},
   "outputs": [],
   "source": [
    "plot(G)"
   ]
  },
  {
   "cell_type": "code",
   "execution_count": null,
   "metadata": {},
   "outputs": [],
   "source": [
    "layout=G.layout_kamada_kawai()"
   ]
  },
  {
   "cell_type": "code",
   "execution_count": null,
   "metadata": {},
   "outputs": [],
   "source": []
  },
  {
   "cell_type": "code",
   "execution_count": null,
   "metadata": {},
   "outputs": [],
   "source": []
  },
  {
   "cell_type": "code",
   "execution_count": null,
   "metadata": {},
   "outputs": [],
   "source": []
  }
 ],
 "metadata": {
  "kernelspec": {
   "display_name": "Python 3",
   "language": "python",
   "name": "python3"
  },
  "language_info": {
   "codemirror_mode": {
    "name": "ipython",
    "version": 3
   },
   "file_extension": ".py",
   "mimetype": "text/x-python",
   "name": "python",
   "nbconvert_exporter": "python",
   "pygments_lexer": "ipython3",
   "version": "3.8.5"
  }
 },
 "nbformat": 4,
 "nbformat_minor": 4
}
